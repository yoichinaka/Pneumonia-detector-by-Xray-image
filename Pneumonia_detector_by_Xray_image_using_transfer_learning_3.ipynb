{
  "nbformat": 4,
  "nbformat_minor": 0,
  "metadata": {
    "accelerator": "GPU",
    "colab": {
      "name": "Pneumonia detector by Xray image using transfer learning-3",
      "provenance": [],
      "collapsed_sections": [],
      "toc_visible": true,
      "include_colab_link": true
    },
    "kernelspec": {
      "display_name": "Python 3",
      "language": "python",
      "name": "python3"
    },
    "language_info": {
      "codemirror_mode": {
        "name": "ipython",
        "version": 3
      },
      "file_extension": ".py",
      "mimetype": "text/x-python",
      "name": "python",
      "nbconvert_exporter": "python",
      "pygments_lexer": "ipython3",
      "version": "3.6.7"
    }
  },
  "cells": [
    {
      "cell_type": "markdown",
      "metadata": {
        "id": "view-in-github",
        "colab_type": "text"
      },
      "source": [
        "<a href=\"https://colab.research.google.com/github/yoichinaka/Pneumonia-detector-by-Xray-image/blob/master/Pneumonia_detector_by_Xray_image_using_transfer_learning_3.ipynb\" target=\"_parent\"><img src=\"https://colab.research.google.com/assets/colab-badge.svg\" alt=\"Open In Colab\"/></a>"
      ]
    },
    {
      "cell_type": "markdown",
      "metadata": {
        "colab_type": "text",
        "id": "89B27-TGiDNB"
      },
      "source": [
        "## Imports"
      ]
    },
    {
      "cell_type": "code",
      "metadata": {
        "id": "U15kATuYktWu",
        "colab_type": "code",
        "colab": {}
      },
      "source": [
        "#!pip install kaggle"
      ],
      "execution_count": 0,
      "outputs": []
    },
    {
      "cell_type": "code",
      "metadata": {
        "id": "6m-pxzzTk0HO",
        "colab_type": "code",
        "colab": {}
      },
      "source": [
        "from google.colab import files\n",
        "files.upload()"
      ],
      "execution_count": 0,
      "outputs": []
    },
    {
      "cell_type": "code",
      "metadata": {
        "id": "pk9te_8Eldxj",
        "colab_type": "code",
        "colab": {}
      },
      "source": [
        "!mkdir -p ~/.kaggle  #kaggleのファイルを作る\n",
        "!cp kaggle.json ~/.kaggle  #kaggleのトークンをコピーする\n",
        "\n",
        "#kaggleのアクセス権を変更する\n",
        "!chmod 600 ~/.kaggle/kaggle.json"
      ],
      "execution_count": 0,
      "outputs": []
    },
    {
      "cell_type": "code",
      "metadata": {
        "id": "xzqD4M5JpJzG",
        "colab_type": "code",
        "outputId": "d758e05c-8f4f-4d74-9e63-f508830721e6",
        "colab": {
          "base_uri": "https://localhost:8080/",
          "height": 68
        }
      },
      "source": [
        "!ls"
      ],
      "execution_count": 4,
      "outputs": [
        {
          "output_type": "stream",
          "text": [
            "a.jpeg\t\t\t  chest_xray.zip  __MACOSX\n",
            "chest_xray\t\t  drive\t\t  model_after_10_epochs\n",
            "chest-xray-pneumonia.zip  kaggle.json\t  sample_data\n"
          ],
          "name": "stdout"
        }
      ]
    },
    {
      "cell_type": "code",
      "metadata": {
        "id": "AKRzRsCllvei",
        "colab_type": "code",
        "outputId": "6b7ae46c-d82f-4fd8-8511-9c94c3a3226a",
        "colab": {
          "base_uri": "https://localhost:8080/",
          "height": 68
        }
      },
      "source": [
        "#!kaggle datasets download -d paultimothymooney/chest-xray-pneumonia"
      ],
      "execution_count": 0,
      "outputs": [
        {
          "output_type": "stream",
          "text": [
            "Downloading chest-xray-pneumonia.zip to /content\n",
            " 98% 1.13G/1.15G [00:12<00:00, 80.2MB/s]\n",
            "100% 1.15G/1.15G [00:12<00:00, 97.9MB/s]\n"
          ],
          "name": "stdout"
        }
      ]
    },
    {
      "cell_type": "code",
      "metadata": {
        "colab_type": "code",
        "outputId": "65527816-cbc8-4e47-f587-4f532f414343",
        "id": "DPxOom0UncOI",
        "colab": {
          "base_uri": "https://localhost:8080/",
          "height": 34
        }
      },
      "source": [
        "from zipfile import ZipFile\n",
        "file_name = 'chest_xray.zip'\n",
        "\n",
        "with ZipFile(file_name , 'r') as zip_file:\n",
        "  zip_file.extractall()\n",
        "  print('done')"
      ],
      "execution_count": 0,
      "outputs": [
        {
          "output_type": "stream",
          "text": [
            "done\n"
          ],
          "name": "stdout"
        }
      ]
    },
    {
      "cell_type": "code",
      "metadata": {
        "colab_type": "code",
        "id": "9u3d4Z7uQsmp",
        "outputId": "e34327d7-89ac-4839-99a8-288be0267bb3",
        "colab": {
          "base_uri": "https://localhost:8080/",
          "height": 34
        }
      },
      "source": [
        "import os, math, json\n",
        "import numpy as np\n",
        "from matplotlib import pyplot as plt\n",
        "import tensorflow as tf\n",
        "print(\"Tensorflow version \" + tf.__version__)\n",
        "tf.enable_eager_execution()\n",
        "AUTO = tf.data.experimental.AUTOTUNE"
      ],
      "execution_count": 9,
      "outputs": [
        {
          "output_type": "stream",
          "text": [
            "Tensorflow version 1.14.0\n"
          ],
          "name": "stdout"
        }
      ]
    },
    {
      "cell_type": "code",
      "metadata": {
        "id": "g7PRMcYHAmoj",
        "colab_type": "code",
        "colab": {}
      },
      "source": [
        "from IPython.display import clear_output\n",
        "\n",
        "%matplotlib inline"
      ],
      "execution_count": 0,
      "outputs": []
    },
    {
      "cell_type": "code",
      "metadata": {
        "id": "UOl-9QUe-msN",
        "colab_type": "code",
        "colab": {}
      },
      "source": [
        "from pathlib import Path\n",
        "\n",
        "#train_files = \"chest_xary/train/\"\n",
        "train_files = \"drive/My Drive/train\"\n",
        "#test_files = \"chest_xar/test/\"\n",
        "test_files = \"drive/My Drive/test\"\n",
        "\n",
        "positive_class_folder_name = \"PNEUMONIA\"\n",
        "negative_class_folder_name = \"NORMAL\""
      ],
      "execution_count": 0,
      "outputs": []
    },
    {
      "cell_type": "code",
      "metadata": {
        "id": "iJFQTxjx_EQ0",
        "colab_type": "code",
        "colab": {}
      },
      "source": [
        "from tensorflow.keras.preprocessing.image import ImageDataGenerator\n",
        "\n",
        "train_generator = ImageDataGenerator(featurewise_center = True,\n",
        "                                     shear_range = 0.2,\n",
        "                                     rescale = 1.0/255,\n",
        "                                     horizontal_flip = True,\n",
        "                                     validation_split = 0.2)\n",
        "\n",
        "test_generator = ImageDataGenerator(rescale = 1.0/255)"
      ],
      "execution_count": 0,
      "outputs": []
    },
    {
      "cell_type": "code",
      "metadata": {
        "id": "P9s_u_sC_D8C",
        "colab_type": "code",
        "outputId": "5dd8c22b-bef9-4537-c387-b05eb3ecf266",
        "colab": {
          "base_uri": "https://localhost:8080/",
          "height": 68
        }
      },
      "source": [
        "train_iterator = train_generator.flow_from_directory(train_files, \n",
        "                                                     target_size = (150, 150),\n",
        "                                                     classes = [positive_class_folder_name, negative_class_folder_name],\n",
        "                                                     batch_size = 256, \n",
        "                                                     shuffle = True, \n",
        "                                                     class_mode = \"binary\",\n",
        "                                                     subset = \"training\")\n",
        "                                                    \n",
        "validation_iterator = train_generator.flow_from_directory(train_files, \n",
        "                                                          target_size = (150, 150),\n",
        "                                                          classes = [positive_class_folder_name, negative_class_folder_name],\n",
        "                                                          batch_size = 128, \n",
        "                                                          shuffle = False, \n",
        "                                                          class_mode = \"binary\",\n",
        "                                                          subset = \"validation\")\n",
        "\n",
        "test_iterator = test_generator.flow_from_directory(test_files, \n",
        "                                                   target_size = (150, 150), \n",
        "                                                   classes = [positive_class_folder_name, negative_class_folder_name],\n",
        "                                                   batch_size = 128, \n",
        "                                                   shuffle = False,\n",
        "                                                   class_mode = \"binary\")"
      ],
      "execution_count": 16,
      "outputs": [
        {
          "output_type": "stream",
          "text": [
            "Found 4194 images belonging to 2 classes.\n",
            "Found 1047 images belonging to 2 classes.\n",
            "Found 624 images belonging to 2 classes.\n"
          ],
          "name": "stdout"
        }
      ]
    },
    {
      "cell_type": "code",
      "metadata": {
        "id": "415utp7dhSiO",
        "colab_type": "code",
        "outputId": "4331c202-3a97-42c6-abed-91347f140d30",
        "colab": {
          "base_uri": "https://localhost:8080/",
          "height": 34
        }
      },
      "source": [
        "# count for class instances in training data\n",
        "\n",
        "class1 = sum(train_iterator.classes)\n",
        "class0 = len(train_iterator.classes) - class1\n",
        "\n",
        "print(\"Label 0 - %i, Label 1 - %i\" % (class0, class1))"
      ],
      "execution_count": 6,
      "outputs": [
        {
          "output_type": "stream",
          "text": [
            "Label 0 - 3106, Label 1 - 1088\n"
          ],
          "name": "stdout"
        }
      ]
    },
    {
      "cell_type": "code",
      "metadata": {
        "id": "V9etAoJ4_xxd",
        "colab_type": "code",
        "outputId": "aa84428c-529b-49d3-ec61-34ad15d0b072",
        "colab": {
          "base_uri": "https://localhost:8080/",
          "height": 34
        }
      },
      "source": [
        "len(train_iterator.classes)"
      ],
      "execution_count": 7,
      "outputs": [
        {
          "output_type": "execute_result",
          "data": {
            "text/plain": [
              "4194"
            ]
          },
          "metadata": {
            "tags": []
          },
          "execution_count": 7
        }
      ]
    },
    {
      "cell_type": "code",
      "metadata": {
        "id": "loF9dQPIAAq2",
        "colab_type": "code",
        "outputId": "30c9d8e2-fa83-4d03-b88f-db36d133f581",
        "colab": {
          "base_uri": "https://localhost:8080/",
          "height": 34
        }
      },
      "source": [
        "from sklearn.utils.class_weight import compute_class_weight\n",
        "\n",
        "y = train_iterator.classes\n",
        "labels = np.unique(y)\n",
        "\n",
        "train_class_weights = compute_class_weight(\"balanced\", labels, y)\n",
        "train_class_weights"
      ],
      "execution_count": 10,
      "outputs": [
        {
          "output_type": "execute_result",
          "data": {
            "text/plain": [
              "array([0.67514488, 1.92738971])"
            ]
          },
          "metadata": {
            "tags": []
          },
          "execution_count": 10
        }
      ]
    },
    {
      "cell_type": "code",
      "metadata": {
        "id": "VkZxyPZuAADw",
        "colab_type": "code",
        "colab": {}
      },
      "source": [
        "from tensorflow.keras.backend import clear_session\n",
        "from tensorflow.keras.layers import Dropout, GlobalAveragePooling2D, BatchNormalization, Dense, Flatten\n",
        "from tensorflow.keras.models import Sequential, load_model, save_model\n",
        "from tensorflow.keras.applications.inception_v3 import InceptionV3\n",
        "from tensorflow.keras.optimizers import RMSprop"
      ],
      "execution_count": 0,
      "outputs": []
    },
    {
      "cell_type": "code",
      "metadata": {
        "id": "7dqzX0oQbLnQ",
        "colab_type": "code",
        "outputId": "87af3fbc-e186-46a8-93bd-baff9ad51d6b",
        "colab": {
          "base_uri": "https://localhost:8080/",
          "height": 527
        }
      },
      "source": [
        "IMAGE_SIZE = [150, 150]\n",
        "#pretrained_model = tf.keras.applications.MobileNetV2(input_shape=[*IMAGE_SIZE, 3], include_top=False)\n",
        "pretrained_model = InceptionV3(weights = \"imagenet\", include_top = False, input_shape = [*IMAGE_SIZE, 3])\n",
        "#pretrained_model = tf.keras.applications.VGG16(weights='imagenet', include_top=False ,input_shape=[*IMAGE_SIZE, 3])\n",
        "#pretrained_model = tf.keras.applications.ResNet50(weights='imagenet', include_top=False, input_shape=[*IMAGE_SIZE, 3])\n",
        "#pretrained_model = tf.keras.applications.MobileNet(weights='imagenet', include_top=False, input_shape=[*IMAGE_SIZE, 3])\n",
        "pretrained_model.trainable = False\n",
        "\n",
        "### QUESTION 1.\n",
        "model = tf.keras.Sequential([\n",
        "    pretrained_model,\n",
        "    GlobalAveragePooling2D(),\n",
        "    Dense(1024, activation = \"relu\"),\n",
        "    Dropout(0.3),\n",
        "    Dense(512, activation = \"relu\"),\n",
        "    Dropout(0.3),\n",
        "    Dense(256, activation = \"relu\"),\n",
        "    Dropout(0.3),\n",
        "    Dense(128, activation = \"relu\"),\n",
        "    Dropout(0.3),\n",
        "    Dense(1, activation = \"sigmoid\")])\n",
        "\n",
        "model.compile(\n",
        "    optimizer='adam',\n",
        "    loss = \"binary_crossentropy\",\n",
        "    metrics=['accuracy']\n",
        ")\n",
        "\n",
        "model.summary()"
      ],
      "execution_count": 12,
      "outputs": [
        {
          "output_type": "stream",
          "text": [
            "Model: \"sequential\"\n",
            "_________________________________________________________________\n",
            "Layer (type)                 Output Shape              Param #   \n",
            "=================================================================\n",
            "inception_v3 (Model)         (None, 3, 3, 2048)        21802784  \n",
            "_________________________________________________________________\n",
            "global_average_pooling2d (Gl (None, 2048)              0         \n",
            "_________________________________________________________________\n",
            "dense (Dense)                (None, 1024)              2098176   \n",
            "_________________________________________________________________\n",
            "dropout (Dropout)            (None, 1024)              0         \n",
            "_________________________________________________________________\n",
            "dense_1 (Dense)              (None, 512)               524800    \n",
            "_________________________________________________________________\n",
            "dropout_1 (Dropout)          (None, 512)               0         \n",
            "_________________________________________________________________\n",
            "dense_2 (Dense)              (None, 256)               131328    \n",
            "_________________________________________________________________\n",
            "dropout_2 (Dropout)          (None, 256)               0         \n",
            "_________________________________________________________________\n",
            "dense_3 (Dense)              (None, 128)               32896     \n",
            "_________________________________________________________________\n",
            "dropout_3 (Dropout)          (None, 128)               0         \n",
            "_________________________________________________________________\n",
            "dense_4 (Dense)              (None, 1)                 129       \n",
            "=================================================================\n",
            "Total params: 24,590,113\n",
            "Trainable params: 2,787,329\n",
            "Non-trainable params: 21,802,784\n",
            "_________________________________________________________________\n"
          ],
          "name": "stdout"
        }
      ]
    },
    {
      "cell_type": "code",
      "metadata": {
        "id": "7jVh7SBhAyNj",
        "colab_type": "code",
        "outputId": "c5ac77c1-cedc-488c-dadc-975db1bd17b5",
        "colab": {
          "base_uri": "https://localhost:8080/",
          "height": 765
        }
      },
      "source": [
        "history = model.fit_generator(train_iterator, \n",
        "                                steps_per_epoch = len(train_iterator),\n",
        "                                epochs = 10,\n",
        "                                verbose = 1,\n",
        "                                workers = 20,\n",
        "                                validation_data = validation_iterator, \n",
        "                                validation_steps = len(validation_iterator),\n",
        "                                class_weight = train_class_weights)"
      ],
      "execution_count": 17,
      "outputs": [
        {
          "output_type": "stream",
          "text": [
            "Epoch 1/10\n"
          ],
          "name": "stdout"
        },
        {
          "output_type": "stream",
          "text": [
            "/usr/local/lib/python3.6/dist-packages/keras_preprocessing/image/image_data_generator.py:716: UserWarning: This ImageDataGenerator specifies `featurewise_center`, but it hasn't been fit on any training data. Fit it first by calling `.fit(numpy_data)`.\n",
            "  warnings.warn('This ImageDataGenerator specifies '\n"
          ],
          "name": "stderr"
        },
        {
          "output_type": "stream",
          "text": [
            "17/17 [==============================] - 117s 7s/step - loss: 0.6315 - acc: 0.6941 - val_loss: 0.5134 - val_acc: 0.7689\n",
            "Epoch 2/10\n",
            "17/17 [==============================] - 58s 3s/step - loss: 0.3650 - acc: 0.8429 - val_loss: 0.4172 - val_acc: 0.8758\n",
            "Epoch 3/10\n",
            "17/17 [==============================] - 63s 4s/step - loss: 0.2520 - acc: 0.8996 - val_loss: 0.3441 - val_acc: 0.8768\n",
            "Epoch 4/10\n",
            "17/17 [==============================] - 66s 4s/step - loss: 0.2037 - acc: 0.9225 - val_loss: 0.4436 - val_acc: 0.8271\n",
            "Epoch 5/10\n",
            "17/17 [==============================] - 64s 4s/step - loss: 0.1902 - acc: 0.9294 - val_loss: 0.4159 - val_acc: 0.8577\n",
            "Epoch 6/10\n",
            "17/17 [==============================] - 63s 4s/step - loss: 0.1767 - acc: 0.9320 - val_loss: 0.4500 - val_acc: 0.8481\n",
            "Epoch 7/10\n",
            "17/17 [==============================] - 64s 4s/step - loss: 0.1645 - acc: 0.9354 - val_loss: 0.3768 - val_acc: 0.8816\n",
            "Epoch 8/10\n",
            "17/17 [==============================] - 66s 4s/step - loss: 0.1742 - acc: 0.9280 - val_loss: 0.3244 - val_acc: 0.8663\n",
            "Epoch 9/10\n",
            "17/17 [==============================] - 63s 4s/step - loss: 0.1700 - acc: 0.9378 - val_loss: 1.4565 - val_acc: 0.5893\n",
            "Epoch 10/10\n",
            "17/17 [==============================] - 64s 4s/step - loss: 0.1647 - acc: 0.9340 - val_loss: 0.4561 - val_acc: 0.8892\n"
          ],
          "name": "stdout"
        }
      ]
    },
    {
      "cell_type": "code",
      "metadata": {
        "id": "vZdRGAwgAx_u",
        "colab_type": "code",
        "colab": {}
      },
      "source": [
        "save_model(model, \"./model_after_10_epochs\", overwrite = True, include_optimizer = True)"
      ],
      "execution_count": 0,
      "outputs": []
    },
    {
      "cell_type": "code",
      "metadata": {
        "id": "Hkx65NLmAxmj",
        "colab_type": "code",
        "colab": {}
      },
      "source": [
        "#model =load_model(\"./model_after_10_epochs\")"
      ],
      "execution_count": 0,
      "outputs": []
    },
    {
      "cell_type": "code",
      "metadata": {
        "id": "Rf9l7pK1E6Gh",
        "colab_type": "code",
        "outputId": "81a6ddf7-1dcd-4f1f-e441-7f51b8e71578",
        "colab": {
          "base_uri": "https://localhost:8080/",
          "height": 68
        }
      },
      "source": [
        "!ls"
      ],
      "execution_count": 20,
      "outputs": [
        {
          "output_type": "stream",
          "text": [
            "a.jpeg\t\t\t  chest_xray.zip  __MACOSX\n",
            "chest_xray\t\t  drive\t\t  model_after_10_epochs\n",
            "chest-xray-pneumonia.zip  kaggle.json\t  sample_data\n"
          ],
          "name": "stdout"
        }
      ]
    },
    {
      "cell_type": "code",
      "metadata": {
        "id": "rZkZvC9QEvzw",
        "colab_type": "code",
        "colab": {}
      },
      "source": [
        "yhat = model.predict_generator(test_iterator,\n",
        "                                 steps = len(test_iterator),\n",
        "                                 verbose = 0)  "
      ],
      "execution_count": 0,
      "outputs": []
    },
    {
      "cell_type": "code",
      "metadata": {
        "id": "z-Tw7qXLJNl_",
        "colab_type": "code",
        "colab": {}
      },
      "source": [
        "mask = yhat > 0.5\n",
        "yhat[mask] = 1\n",
        "yhat[~mask] = 0\n",
        "y = test_iterator.classes"
      ],
      "execution_count": 0,
      "outputs": []
    },
    {
      "cell_type": "code",
      "metadata": {
        "id": "bf9C0xShC1hG",
        "colab_type": "code",
        "outputId": "2935d77d-6bf2-4f41-b6e9-364f25acda24",
        "colab": {
          "base_uri": "https://localhost:8080/",
          "height": 170
        }
      },
      "source": [
        "from sklearn.metrics import classification_report\n",
        "\n",
        "target_names = ['Pneumonia', 'Normal']\n",
        "print(classification_report(y, yhat, target_names = target_names))"
      ],
      "execution_count": 23,
      "outputs": [
        {
          "output_type": "stream",
          "text": [
            "              precision    recall  f1-score   support\n",
            "\n",
            "   Pneumonia       0.71      0.92      0.80       390\n",
            "      Normal       0.72      0.36      0.48       234\n",
            "\n",
            "    accuracy                           0.71       624\n",
            "   macro avg       0.71      0.64      0.64       624\n",
            "weighted avg       0.71      0.71      0.68       624\n",
            "\n"
          ],
          "name": "stdout"
        }
      ]
    },
    {
      "cell_type": "code",
      "metadata": {
        "id": "DkTQfavxTL4E",
        "colab_type": "code",
        "colab": {}
      },
      "source": [
        ""
      ],
      "execution_count": 0,
      "outputs": []
    }
  ]
}